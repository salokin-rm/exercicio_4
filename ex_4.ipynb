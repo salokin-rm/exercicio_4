{
 "cells": [
  {
   "cell_type": "code",
   "execution_count": 11,
   "id": "801022ac",
   "metadata": {},
   "outputs": [
    {
     "name": "stdout",
     "output_type": "stream",
     "text": [
      "Qual o seu nome?: Nikolas\n",
      "Olá, Nikolas !\n"
     ]
    }
   ],
   "source": [
    "\"\"\"\n",
    "Programa: Nome do Usuário\n",
    "Descrição: Este programa lê armazena um nome e dá \"olá\".\n",
    "Autor: Nikolas Martins\n",
    "Data: 21/06/2023\n",
    "Versão: 0.0.1\n",
    "\"\"\"\n",
    "\n",
    "# Atribuição de variáveis\n",
    "\n",
    "# Entrada de dados\n",
    "\n",
    "nome = input(f\"Qual o seu nome?: \") #variável transição\n",
    "\n",
    "# Processamento de dados\n",
    "    \n",
    "# Saída de dados\n",
    "\n",
    "print(\"Olá,\",nome,\"!\") "
   ]
  }
 ],
 "metadata": {
  "kernelspec": {
   "display_name": "Python 3 (ipykernel)",
   "language": "python",
   "name": "python3"
  },
  "language_info": {
   "codemirror_mode": {
    "name": "ipython",
    "version": 3
   },
   "file_extension": ".py",
   "mimetype": "text/x-python",
   "name": "python",
   "nbconvert_exporter": "python",
   "pygments_lexer": "ipython3",
   "version": "3.10.9"
  }
 },
 "nbformat": 4,
 "nbformat_minor": 5
}
